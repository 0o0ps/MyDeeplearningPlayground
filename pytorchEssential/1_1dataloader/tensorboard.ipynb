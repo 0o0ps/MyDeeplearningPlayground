{
 "cells": [
  {
   "cell_type": "code",
   "execution_count": 1,
   "metadata": {},
   "outputs": [],
   "source": [
    "# from torch.utils.tensorboard import SummaryWriter\n",
    "import torch\n",
    "from torch.utils.tensorboard import SummaryWriter\n",
    "# tensorboard --logdir=yourpath --port=6005"
   ]
  },
  {
   "cell_type": "code",
   "execution_count": 8,
   "metadata": {},
   "outputs": [],
   "source": [
    "## 初始化一个SummaryWriter对象, 传入一个文件夹名字, 会在当前目录下创建一个文件夹\n",
    "writer = SummaryWriter(\"my_logs\")"
   ]
  },
  {
   "cell_type": "markdown",
   "metadata": {},
   "source": [
    "## 标量显示"
   ]
  },
  {
   "cell_type": "code",
   "execution_count": 9,
   "metadata": {},
   "outputs": [],
   "source": [
    "for i in range(100):\n",
    "    writer.add_scalar(\"y=2x\", i , i )\n",
    "    ## title\n",
    "    ## y axis (e.g. loss)\n",
    "    ## x axis (e.g. epochs)"
   ]
  },
  {
   "cell_type": "markdown",
   "metadata": {},
   "source": [
    "## 图像显示 "
   ]
  },
  {
   "cell_type": "code",
   "execution_count": 12,
   "metadata": {},
   "outputs": [],
   "source": [
    "from PIL import Image\n",
    "import numpy as np"
   ]
  },
  {
   "cell_type": "code",
   "execution_count": 17,
   "metadata": {},
   "outputs": [
    {
     "name": "stdout",
     "output_type": "stream",
     "text": [
      "<class 'PIL.JpegImagePlugin.JpegImageFile'>\n",
      "arrayShape  (512, 768, 3)\n"
     ]
    }
   ],
   "source": [
    "image_path = \"/mnt/public/wangxinkang/projects/pytorchPlayground/pytorchEssential/data/hymenoptera_data/train/ants/0013035.jpg\"\n",
    "img = Image.open(image_path)\n",
    "print(type(img))\n",
    "###不符合add_image的输入要求,either use opencv or numpy\n",
    "img_array = np.array(img)\n",
    "print(\"arrayShape \",img_array.shape)\n",
    "## 通道类型不对\n",
    " "
   ]
  },
  {
   "cell_type": "code",
   "execution_count": 22,
   "metadata": {},
   "outputs": [],
   "source": [
    "## 请注意你的dataformats!\n",
    "writer.add_image(\"ant\", img_array, 0, dataformats= \"HWC\")"
   ]
  },
  {
   "cell_type": "code",
   "execution_count": null,
   "metadata": {},
   "outputs": [],
   "source": []
  }
 ],
 "metadata": {
  "kernelspec": {
   "display_name": "pytorch",
   "language": "python",
   "name": "python3"
  },
  "language_info": {
   "codemirror_mode": {
    "name": "ipython",
    "version": 3
   },
   "file_extension": ".py",
   "mimetype": "text/x-python",
   "name": "python",
   "nbconvert_exporter": "python",
   "pygments_lexer": "ipython3",
   "version": "3.9.18"
  }
 },
 "nbformat": 4,
 "nbformat_minor": 2
}
