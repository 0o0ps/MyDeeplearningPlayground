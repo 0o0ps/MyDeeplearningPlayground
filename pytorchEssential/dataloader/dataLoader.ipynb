{
 "cells": [
  {
   "cell_type": "markdown",
   "metadata": {},
   "source": [
    "# 加载ant and bees 的 dataset "
   ]
  },
  {
   "cell_type": "code",
   "execution_count": 1,
   "metadata": {},
   "outputs": [],
   "source": [
    "from torch.utils.data import Dataset\n",
    "import cv2\n",
    "from PIL import Image\n",
    "import os\n",
    "import matplotlib.pyplot as plt\n"
   ]
  },
  {
   "cell_type": "code",
   "execution_count": 2,
   "metadata": {},
   "outputs": [],
   "source": [
    "##!? torch中的Dataset类，用来对应上标签和数据，并知道共有多少数据\n",
    "class MyData(Dataset):\n",
    "    ### 如何初始化一个对象\n",
    "    def __init__(self,rootDir,label):\n",
    "        self.rootDir = rootDir\n",
    "        self.label = label\n",
    "        self.path = os.path.join(self.rootDir,self.label)\n",
    "        self.imgsPath = os.listdir(self.path)\n",
    "    def __getitem__(self, index):\n",
    "        pass\n",
    "        # img = Image.open(self.path)\n",
    "        img_name = self.imgsPath[index]\n",
    "        img_item_path = os.path.join(self.path,img_name)\n",
    "        img = Image.open(img_item_path)\n",
    "        label = self.label\n",
    "        return img,label\n",
    "    def __len__(self):\n",
    "        return len(self.imgsPath)        \n",
    "        \n",
    "        \n",
    "    "
   ]
  },
  {
   "cell_type": "code",
   "execution_count": 3,
   "metadata": {},
   "outputs": [],
   "source": [
    "rootDir = \"/mnt/public/wangxinkang/projects/pytorchPlayground/pytorchEssential/data/hymenoptera_data/train\"\n",
    "labelDir = \"ants\"\n",
    "\n",
    "trainSet = MyData(rootDir,labelDir)"
   ]
  },
  {
   "cell_type": "code",
   "execution_count": null,
   "metadata": {},
   "outputs": [],
   "source": []
  },
  {
   "cell_type": "code",
   "execution_count": 4,
   "metadata": {},
   "outputs": [
    {
     "name": "stderr",
     "output_type": "stream",
     "text": [
      "Error: no \"view\" rule for type \"image/png\" passed its test case\n",
      "       (for more information, add \"--debug=1\" on the command line)\n"
     ]
    }
   ],
   "source": [
    "# trainSet.path\n",
    "# trainSet.imgsPath\n",
    "img , label = trainSet[0]\n",
    "### ! don't know why the img is not shown, seems like the remote server doesn't support the GUI\n",
    "# img.show()\n"
   ]
  }
 ],
 "metadata": {
  "kernelspec": {
   "display_name": "torch",
   "language": "python",
   "name": "python3"
  },
  "language_info": {
   "codemirror_mode": {
    "name": "ipython",
    "version": 3
   },
   "file_extension": ".py",
   "mimetype": "text/x-python",
   "name": "python",
   "nbconvert_exporter": "python",
   "pygments_lexer": "ipython3",
   "version": "3.9.18"
  }
 },
 "nbformat": 4,
 "nbformat_minor": 2
}
